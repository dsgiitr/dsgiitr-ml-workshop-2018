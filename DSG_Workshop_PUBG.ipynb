{
 "cells": [
  {
   "cell_type": "markdown",
   "metadata": {},
   "source": [
    "<img src=\"pubg.jpg\">"
   ]
  },
  {
   "cell_type": "markdown",
   "metadata": {},
   "source": [
    "## Problem Statement"
   ]
  },
  {
   "cell_type": "markdown",
   "metadata": {},
   "source": [
    "PlayerUnknown’s BattleGround (PUBG) has taken the world by storm. 100 players are dropped onto an island empty-handed and must explore, scavenge, and eliminate other players until only one is left standing, all while the play zone continues to shrink.\n",
    "PUBG has enjoyed massive popularity. With over 50 million copies sold, it's the fifth best selling game of all time and has millions of active monthly players.\n",
    "Though we are pretty sure that all of you would have shown some great skills in playing PUBG, it’s time for the action outside “The Blue Circle”, but this time with the power of Machine Learning.\n",
    "\n",
    "The task is to predict the number of kills made by a player by analyzing its other attributes like survival time, team size, assists, walking and riding time etc. given in the dataset ‘pubg_kills.csv’."
   ]
  },
  {
   "cell_type": "markdown",
   "metadata": {},
   "source": [
    "## Data  Description"
   ]
  },
  {
   "cell_type": "markdown",
   "metadata": {},
   "source": [
    "The given dataset has the following variables:\n",
    "\n",
    "* match_id: The unique match id.\n",
    "* date: The date and time the match took place\n",
    "* game_size: The total number of teams that were in the game\n",
    "* match_mode: whether the game was played in first-person (FPP) or third-person (TPP)\n",
    "* party_size: The maximum number of players per team. e.g 2 implies it was a duo.\n",
    "* player_name: Name of the player\n",
    "* team_id: The team id that the player belonged to\n",
    "* team_placement: The final rank of the team within the match\n",
    "* player_dbno: Number of knockdowns the player has scored\n",
    "* player_assists: Number of assists the player has scored\n",
    "* player_dmg: Total Hitpoint that the player has dealt\n",
    "* player_dist_ride: Total distance that the player has traveled in a vehicle\n",
    "* player_dist_walk: Total distance that the player has traveled on foot\n",
    "* player_kills: Number of kills the player has scored ⇒ <b>To be predicted</b>\n"
   ]
  },
  {
   "cell_type": "markdown",
   "metadata": {},
   "source": [
    "## Lets start Data Science Game"
   ]
  },
  {
   "cell_type": "markdown",
   "metadata": {},
   "source": [
    "### Importing Standard Libraries"
   ]
  },
  {
   "cell_type": "code",
   "execution_count": 1,
   "metadata": {},
   "outputs": [
    {
     "name": "stderr",
     "output_type": "stream",
     "text": [
      "/home/rohit/anaconda3/lib/python3.6/importlib/_bootstrap.py:219: RuntimeWarning: numpy.dtype size changed, may indicate binary incompatibility. Expected 96, got 88\n",
      "  return f(*args, **kwds)\n",
      "/home/rohit/anaconda3/lib/python3.6/importlib/_bootstrap.py:219: RuntimeWarning: numpy.dtype size changed, may indicate binary incompatibility. Expected 96, got 88\n",
      "  return f(*args, **kwds)\n",
      "/home/rohit/anaconda3/lib/python3.6/importlib/_bootstrap.py:219: RuntimeWarning: numpy.dtype size changed, may indicate binary incompatibility. Expected 96, got 88\n",
      "  return f(*args, **kwds)\n",
      "/home/rohit/anaconda3/lib/python3.6/importlib/_bootstrap.py:219: RuntimeWarning: numpy.dtype size changed, may indicate binary incompatibility. Expected 96, got 88\n",
      "  return f(*args, **kwds)\n"
     ]
    }
   ],
   "source": [
    "import numpy as np\n",
    "import pandas as pd\n",
    "import matplotlib.pyplot as plt\n",
    "import seaborn as sns\n",
    "\n",
    "from sklearn.model_selection import train_test_split\n",
    "from sklearn.metrics import mean_squared_error\n",
    "\n",
    "sns.set(style=\"whitegrid\", color_codes=True)\n",
    "sns.set(font_scale=1)\n",
    "\n",
    "from IPython.display import display\n",
    "pd.options.display.max_columns = None\n",
    "\n",
    "%matplotlib inline\n",
    "\n",
    "import warnings\n",
    "warnings.filterwarnings('ignore')"
   ]
  },
  {
   "cell_type": "markdown",
   "metadata": {},
   "source": [
    "### Loading Dataset"
   ]
  },
  {
   "cell_type": "code",
   "execution_count": 2,
   "metadata": {},
   "outputs": [],
   "source": [
    "data = pd.read_csv('pubg_kills.csv')"
   ]
  },
  {
   "cell_type": "code",
   "execution_count": 3,
   "metadata": {},
   "outputs": [
    {
     "data": {
      "text/html": [
       "<div>\n",
       "<style scoped>\n",
       "    .dataframe tbody tr th:only-of-type {\n",
       "        vertical-align: middle;\n",
       "    }\n",
       "\n",
       "    .dataframe tbody tr th {\n",
       "        vertical-align: top;\n",
       "    }\n",
       "\n",
       "    .dataframe thead th {\n",
       "        text-align: right;\n",
       "    }\n",
       "</style>\n",
       "<table border=\"1\" class=\"dataframe\">\n",
       "  <thead>\n",
       "    <tr style=\"text-align: right;\">\n",
       "      <th></th>\n",
       "      <th>date</th>\n",
       "      <th>game_size</th>\n",
       "      <th>match_id</th>\n",
       "      <th>match_mode</th>\n",
       "      <th>party_size</th>\n",
       "      <th>player_assists</th>\n",
       "      <th>player_dbno</th>\n",
       "      <th>player_dist_ride</th>\n",
       "      <th>player_dist_walk</th>\n",
       "      <th>player_dmg</th>\n",
       "      <th>player_kills</th>\n",
       "      <th>player_name</th>\n",
       "      <th>player_survive_time</th>\n",
       "      <th>team_id</th>\n",
       "      <th>team_placement</th>\n",
       "    </tr>\n",
       "  </thead>\n",
       "  <tbody>\n",
       "    <tr>\n",
       "      <th>0</th>\n",
       "      <td>2017-12-27T20:20:31+0000</td>\n",
       "      <td>48</td>\n",
       "      <td>2U4GBNA0YmnMHZeAz4CH3TqfbVXa9KYNPgEsoXjtphE4Qm...</td>\n",
       "      <td>tpp</td>\n",
       "      <td>2</td>\n",
       "      <td>0</td>\n",
       "      <td>1</td>\n",
       "      <td>0.000000</td>\n",
       "      <td>77.369510</td>\n",
       "      <td>100</td>\n",
       "      <td>0</td>\n",
       "      <td>yinghechiji777</td>\n",
       "      <td>149.366</td>\n",
       "      <td>22</td>\n",
       "      <td>42</td>\n",
       "    </tr>\n",
       "    <tr>\n",
       "      <th>1</th>\n",
       "      <td>2018-01-01T06:08:26+0000</td>\n",
       "      <td>28</td>\n",
       "      <td>2U4GBNA0YmlRlJBlopOrzVTB5S2u-ryn86WvqBvX8-ar96...</td>\n",
       "      <td>tpp</td>\n",
       "      <td>4</td>\n",
       "      <td>0</td>\n",
       "      <td>0</td>\n",
       "      <td>0.000000</td>\n",
       "      <td>0.000000</td>\n",
       "      <td>0</td>\n",
       "      <td>0</td>\n",
       "      <td>HuYaTVzilong666</td>\n",
       "      <td>175.910</td>\n",
       "      <td>17</td>\n",
       "      <td>5</td>\n",
       "    </tr>\n",
       "    <tr>\n",
       "      <th>2</th>\n",
       "      <td>2017-12-17T23:05:22+0000</td>\n",
       "      <td>87</td>\n",
       "      <td>2U4GBNA0Ymkqn6Q_r0NzT3a0pdgnH_c9ui5qf72lez_Aub...</td>\n",
       "      <td>tpp</td>\n",
       "      <td>1</td>\n",
       "      <td>0</td>\n",
       "      <td>0</td>\n",
       "      <td>734.290833</td>\n",
       "      <td>3628.126460</td>\n",
       "      <td>20</td>\n",
       "      <td>0</td>\n",
       "      <td>doushicaiMN</td>\n",
       "      <td>1460.299</td>\n",
       "      <td>100008</td>\n",
       "      <td>20</td>\n",
       "    </tr>\n",
       "    <tr>\n",
       "      <th>3</th>\n",
       "      <td>2017-12-02T02:01:36+0000</td>\n",
       "      <td>28</td>\n",
       "      <td>2U4GBNA0YmmJVgN8OlKtSFSQgMmeGZyB-GCoTyVEcZugTn...</td>\n",
       "      <td>tpp</td>\n",
       "      <td>4</td>\n",
       "      <td>0</td>\n",
       "      <td>4</td>\n",
       "      <td>0.000000</td>\n",
       "      <td>826.791748</td>\n",
       "      <td>515</td>\n",
       "      <td>4</td>\n",
       "      <td>saonima7</td>\n",
       "      <td>617.122</td>\n",
       "      <td>25</td>\n",
       "      <td>20</td>\n",
       "    </tr>\n",
       "    <tr>\n",
       "      <th>4</th>\n",
       "      <td>2017-11-26T02:00:42+0000</td>\n",
       "      <td>25</td>\n",
       "      <td>2U4GBNA0YmkYaAOl9jNhkeTFPTcf0EtSbU6BEFJZj320Pi...</td>\n",
       "      <td>tpp</td>\n",
       "      <td>4</td>\n",
       "      <td>0</td>\n",
       "      <td>0</td>\n",
       "      <td>2756.481000</td>\n",
       "      <td>313.395700</td>\n",
       "      <td>0</td>\n",
       "      <td>0</td>\n",
       "      <td>darrenrtee</td>\n",
       "      <td>322.922</td>\n",
       "      <td>16</td>\n",
       "      <td>21</td>\n",
       "    </tr>\n",
       "  </tbody>\n",
       "</table>\n",
       "</div>"
      ],
      "text/plain": [
       "                       date  game_size  \\\n",
       "0  2017-12-27T20:20:31+0000         48   \n",
       "1  2018-01-01T06:08:26+0000         28   \n",
       "2  2017-12-17T23:05:22+0000         87   \n",
       "3  2017-12-02T02:01:36+0000         28   \n",
       "4  2017-11-26T02:00:42+0000         25   \n",
       "\n",
       "                                            match_id match_mode  party_size  \\\n",
       "0  2U4GBNA0YmnMHZeAz4CH3TqfbVXa9KYNPgEsoXjtphE4Qm...        tpp           2   \n",
       "1  2U4GBNA0YmlRlJBlopOrzVTB5S2u-ryn86WvqBvX8-ar96...        tpp           4   \n",
       "2  2U4GBNA0Ymkqn6Q_r0NzT3a0pdgnH_c9ui5qf72lez_Aub...        tpp           1   \n",
       "3  2U4GBNA0YmmJVgN8OlKtSFSQgMmeGZyB-GCoTyVEcZugTn...        tpp           4   \n",
       "4  2U4GBNA0YmkYaAOl9jNhkeTFPTcf0EtSbU6BEFJZj320Pi...        tpp           4   \n",
       "\n",
       "   player_assists  player_dbno  player_dist_ride  player_dist_walk  \\\n",
       "0               0            1          0.000000         77.369510   \n",
       "1               0            0          0.000000          0.000000   \n",
       "2               0            0        734.290833       3628.126460   \n",
       "3               0            4          0.000000        826.791748   \n",
       "4               0            0       2756.481000        313.395700   \n",
       "\n",
       "   player_dmg  player_kills      player_name  player_survive_time  team_id  \\\n",
       "0         100             0   yinghechiji777              149.366       22   \n",
       "1           0             0  HuYaTVzilong666              175.910       17   \n",
       "2          20             0      doushicaiMN             1460.299   100008   \n",
       "3         515             4         saonima7              617.122       25   \n",
       "4           0             0       darrenrtee              322.922       16   \n",
       "\n",
       "   team_placement  \n",
       "0              42  \n",
       "1               5  \n",
       "2              20  \n",
       "3              20  \n",
       "4              21  "
      ]
     },
     "execution_count": 3,
     "metadata": {},
     "output_type": "execute_result"
    }
   ],
   "source": [
    "data.head()"
   ]
  },
  {
   "cell_type": "code",
   "execution_count": 4,
   "metadata": {},
   "outputs": [
    {
     "name": "stdout",
     "output_type": "stream",
     "text": [
      "(100000, 15)\n"
     ]
    }
   ],
   "source": [
    "print(data.shape)"
   ]
  },
  {
   "cell_type": "code",
   "execution_count": 5,
   "metadata": {},
   "outputs": [
    {
     "name": "stdout",
     "output_type": "stream",
     "text": [
      "Index(['date', 'game_size', 'match_id', 'match_mode', 'party_size',\n",
      "       'player_assists', 'player_dbno', 'player_dist_ride', 'player_dist_walk',\n",
      "       'player_dmg', 'player_kills', 'player_name', 'player_survive_time',\n",
      "       'team_id', 'team_placement'],\n",
      "      dtype='object')\n"
     ]
    }
   ],
   "source": [
    "print(data.columns)"
   ]
  },
  {
   "cell_type": "markdown",
   "metadata": {},
   "source": [
    "#### Length of the dataset"
   ]
  },
  {
   "cell_type": "code",
   "execution_count": 6,
   "metadata": {},
   "outputs": [
    {
     "data": {
      "text/plain": [
       "100000"
      ]
     },
     "execution_count": 6,
     "metadata": {},
     "output_type": "execute_result"
    }
   ],
   "source": [
    "len(data)"
   ]
  },
  {
   "cell_type": "markdown",
   "metadata": {},
   "source": [
    "## Understanding Pandas DataFrame"
   ]
  },
  {
   "cell_type": "code",
   "execution_count": 7,
   "metadata": {},
   "outputs": [
    {
     "data": {
      "text/plain": [
       "0     149.366\n",
       "1     175.910\n",
       "2    1460.299\n",
       "3     617.122\n",
       "4     322.922\n",
       "Name: player_survive_time, dtype: float64"
      ]
     },
     "execution_count": 7,
     "metadata": {},
     "output_type": "execute_result"
    }
   ],
   "source": [
    "#To access a column\n",
    "data.player_survive_time.head()"
   ]
  },
  {
   "cell_type": "code",
   "execution_count": 8,
   "metadata": {},
   "outputs": [
    {
     "data": {
      "text/html": [
       "<div>\n",
       "<style scoped>\n",
       "    .dataframe tbody tr th:only-of-type {\n",
       "        vertical-align: middle;\n",
       "    }\n",
       "\n",
       "    .dataframe tbody tr th {\n",
       "        vertical-align: top;\n",
       "    }\n",
       "\n",
       "    .dataframe thead th {\n",
       "        text-align: right;\n",
       "    }\n",
       "</style>\n",
       "<table border=\"1\" class=\"dataframe\">\n",
       "  <thead>\n",
       "    <tr style=\"text-align: right;\">\n",
       "      <th></th>\n",
       "      <th>party_size</th>\n",
       "      <th>player_kills</th>\n",
       "    </tr>\n",
       "  </thead>\n",
       "  <tbody>\n",
       "    <tr>\n",
       "      <th>0</th>\n",
       "      <td>2</td>\n",
       "      <td>0</td>\n",
       "    </tr>\n",
       "    <tr>\n",
       "      <th>1</th>\n",
       "      <td>4</td>\n",
       "      <td>0</td>\n",
       "    </tr>\n",
       "    <tr>\n",
       "      <th>2</th>\n",
       "      <td>1</td>\n",
       "      <td>0</td>\n",
       "    </tr>\n",
       "    <tr>\n",
       "      <th>3</th>\n",
       "      <td>4</td>\n",
       "      <td>4</td>\n",
       "    </tr>\n",
       "  </tbody>\n",
       "</table>\n",
       "</div>"
      ],
      "text/plain": [
       "   party_size  player_kills\n",
       "0           2             0\n",
       "1           4             0\n",
       "2           1             0\n",
       "3           4             4"
      ]
     },
     "execution_count": 8,
     "metadata": {},
     "output_type": "execute_result"
    }
   ],
   "source": [
    "#To access multiple columns\n",
    "data[['party_size','player_kills']].head(4)"
   ]
  },
  {
   "cell_type": "code",
   "execution_count": 9,
   "metadata": {},
   "outputs": [
    {
     "data": {
      "text/html": [
       "<div>\n",
       "<style scoped>\n",
       "    .dataframe tbody tr th:only-of-type {\n",
       "        vertical-align: middle;\n",
       "    }\n",
       "\n",
       "    .dataframe tbody tr th {\n",
       "        vertical-align: top;\n",
       "    }\n",
       "\n",
       "    .dataframe thead th {\n",
       "        text-align: right;\n",
       "    }\n",
       "</style>\n",
       "<table border=\"1\" class=\"dataframe\">\n",
       "  <thead>\n",
       "    <tr style=\"text-align: right;\">\n",
       "      <th></th>\n",
       "      <th>date</th>\n",
       "      <th>game_size</th>\n",
       "      <th>match_id</th>\n",
       "      <th>match_mode</th>\n",
       "      <th>party_size</th>\n",
       "      <th>player_assists</th>\n",
       "      <th>player_dbno</th>\n",
       "      <th>player_dist_ride</th>\n",
       "      <th>player_dist_walk</th>\n",
       "      <th>player_dmg</th>\n",
       "      <th>player_kills</th>\n",
       "      <th>player_name</th>\n",
       "      <th>player_survive_time</th>\n",
       "      <th>team_id</th>\n",
       "      <th>team_placement</th>\n",
       "    </tr>\n",
       "  </thead>\n",
       "  <tbody>\n",
       "    <tr>\n",
       "      <th>3</th>\n",
       "      <td>2017-12-02T02:01:36+0000</td>\n",
       "      <td>28</td>\n",
       "      <td>2U4GBNA0YmmJVgN8OlKtSFSQgMmeGZyB-GCoTyVEcZugTn...</td>\n",
       "      <td>tpp</td>\n",
       "      <td>4</td>\n",
       "      <td>0</td>\n",
       "      <td>4</td>\n",
       "      <td>0.000</td>\n",
       "      <td>826.791748</td>\n",
       "      <td>515</td>\n",
       "      <td>4</td>\n",
       "      <td>saonima7</td>\n",
       "      <td>617.122</td>\n",
       "      <td>25</td>\n",
       "      <td>20</td>\n",
       "    </tr>\n",
       "    <tr>\n",
       "      <th>4</th>\n",
       "      <td>2017-11-26T02:00:42+0000</td>\n",
       "      <td>25</td>\n",
       "      <td>2U4GBNA0YmkYaAOl9jNhkeTFPTcf0EtSbU6BEFJZj320Pi...</td>\n",
       "      <td>tpp</td>\n",
       "      <td>4</td>\n",
       "      <td>0</td>\n",
       "      <td>0</td>\n",
       "      <td>2756.481</td>\n",
       "      <td>313.395700</td>\n",
       "      <td>0</td>\n",
       "      <td>0</td>\n",
       "      <td>darrenrtee</td>\n",
       "      <td>322.922</td>\n",
       "      <td>16</td>\n",
       "      <td>21</td>\n",
       "    </tr>\n",
       "    <tr>\n",
       "      <th>5</th>\n",
       "      <td>2017-12-16T22:45:07+0000</td>\n",
       "      <td>28</td>\n",
       "      <td>2U4GBNA0YmlnhtZaMwQ3tlF6SbPnNR7iMWGMISEqMFGeFi...</td>\n",
       "      <td>tpp</td>\n",
       "      <td>4</td>\n",
       "      <td>0</td>\n",
       "      <td>0</td>\n",
       "      <td>0.000</td>\n",
       "      <td>349.153900</td>\n",
       "      <td>66</td>\n",
       "      <td>0</td>\n",
       "      <td>Fearangel123</td>\n",
       "      <td>378.599</td>\n",
       "      <td>15</td>\n",
       "      <td>19</td>\n",
       "    </tr>\n",
       "  </tbody>\n",
       "</table>\n",
       "</div>"
      ],
      "text/plain": [
       "                       date  game_size  \\\n",
       "3  2017-12-02T02:01:36+0000         28   \n",
       "4  2017-11-26T02:00:42+0000         25   \n",
       "5  2017-12-16T22:45:07+0000         28   \n",
       "\n",
       "                                            match_id match_mode  party_size  \\\n",
       "3  2U4GBNA0YmmJVgN8OlKtSFSQgMmeGZyB-GCoTyVEcZugTn...        tpp           4   \n",
       "4  2U4GBNA0YmkYaAOl9jNhkeTFPTcf0EtSbU6BEFJZj320Pi...        tpp           4   \n",
       "5  2U4GBNA0YmlnhtZaMwQ3tlF6SbPnNR7iMWGMISEqMFGeFi...        tpp           4   \n",
       "\n",
       "   player_assists  player_dbno  player_dist_ride  player_dist_walk  \\\n",
       "3               0            4             0.000        826.791748   \n",
       "4               0            0          2756.481        313.395700   \n",
       "5               0            0             0.000        349.153900   \n",
       "\n",
       "   player_dmg  player_kills   player_name  player_survive_time  team_id  \\\n",
       "3         515             4      saonima7              617.122       25   \n",
       "4           0             0    darrenrtee              322.922       16   \n",
       "5          66             0  Fearangel123              378.599       15   \n",
       "\n",
       "   team_placement  \n",
       "3              20  \n",
       "4              21  \n",
       "5              19  "
      ]
     },
     "execution_count": 9,
     "metadata": {},
     "output_type": "execute_result"
    }
   ],
   "source": [
    "#To access a multiple rows\n",
    "data.iloc[3:6]"
   ]
  },
  {
   "cell_type": "markdown",
   "metadata": {},
   "source": [
    "## Dealing with the 'date' feature"
   ]
  },
  {
   "cell_type": "code",
   "execution_count": 10,
   "metadata": {},
   "outputs": [],
   "source": [
    "data['date'] =  pd.to_datetime(data['date'], format='%Y-%m-%dT%H:%M:%S+0000')"
   ]
  },
  {
   "cell_type": "code",
   "execution_count": 11,
   "metadata": {},
   "outputs": [],
   "source": [
    "data['Day'] = pd.DatetimeIndex(data['date']).weekday\n",
    "weekday_map = {0: 'Monday', 1: 'Tuesday', 2: 'Wednesday', 3: 'Thursday', 4: 'Friday', 5: 'Saturday', 6: 'Sunday'}"
   ]
  },
  {
   "cell_type": "code",
   "execution_count": 12,
   "metadata": {},
   "outputs": [],
   "source": [
    "data['Hour'] = pd.DatetimeIndex(data['date']).hour"
   ]
  },
  {
   "cell_type": "code",
   "execution_count": 13,
   "metadata": {},
   "outputs": [
    {
     "data": {
      "text/html": [
       "<div>\n",
       "<style scoped>\n",
       "    .dataframe tbody tr th:only-of-type {\n",
       "        vertical-align: middle;\n",
       "    }\n",
       "\n",
       "    .dataframe tbody tr th {\n",
       "        vertical-align: top;\n",
       "    }\n",
       "\n",
       "    .dataframe thead th {\n",
       "        text-align: right;\n",
       "    }\n",
       "</style>\n",
       "<table border=\"1\" class=\"dataframe\">\n",
       "  <thead>\n",
       "    <tr style=\"text-align: right;\">\n",
       "      <th></th>\n",
       "      <th>date</th>\n",
       "      <th>game_size</th>\n",
       "      <th>match_id</th>\n",
       "      <th>match_mode</th>\n",
       "      <th>party_size</th>\n",
       "      <th>player_assists</th>\n",
       "      <th>player_dbno</th>\n",
       "      <th>player_dist_ride</th>\n",
       "      <th>player_dist_walk</th>\n",
       "      <th>player_dmg</th>\n",
       "      <th>player_kills</th>\n",
       "      <th>player_name</th>\n",
       "      <th>player_survive_time</th>\n",
       "      <th>team_id</th>\n",
       "      <th>team_placement</th>\n",
       "      <th>Day</th>\n",
       "      <th>Hour</th>\n",
       "    </tr>\n",
       "  </thead>\n",
       "  <tbody>\n",
       "    <tr>\n",
       "      <th>0</th>\n",
       "      <td>2017-12-27 20:20:31</td>\n",
       "      <td>48</td>\n",
       "      <td>2U4GBNA0YmnMHZeAz4CH3TqfbVXa9KYNPgEsoXjtphE4Qm...</td>\n",
       "      <td>tpp</td>\n",
       "      <td>2</td>\n",
       "      <td>0</td>\n",
       "      <td>1</td>\n",
       "      <td>0.000000</td>\n",
       "      <td>77.36951</td>\n",
       "      <td>100</td>\n",
       "      <td>0</td>\n",
       "      <td>yinghechiji777</td>\n",
       "      <td>149.366</td>\n",
       "      <td>22</td>\n",
       "      <td>42</td>\n",
       "      <td>2</td>\n",
       "      <td>20</td>\n",
       "    </tr>\n",
       "    <tr>\n",
       "      <th>1</th>\n",
       "      <td>2018-01-01 06:08:26</td>\n",
       "      <td>28</td>\n",
       "      <td>2U4GBNA0YmlRlJBlopOrzVTB5S2u-ryn86WvqBvX8-ar96...</td>\n",
       "      <td>tpp</td>\n",
       "      <td>4</td>\n",
       "      <td>0</td>\n",
       "      <td>0</td>\n",
       "      <td>0.000000</td>\n",
       "      <td>0.00000</td>\n",
       "      <td>0</td>\n",
       "      <td>0</td>\n",
       "      <td>HuYaTVzilong666</td>\n",
       "      <td>175.910</td>\n",
       "      <td>17</td>\n",
       "      <td>5</td>\n",
       "      <td>0</td>\n",
       "      <td>6</td>\n",
       "    </tr>\n",
       "    <tr>\n",
       "      <th>2</th>\n",
       "      <td>2017-12-17 23:05:22</td>\n",
       "      <td>87</td>\n",
       "      <td>2U4GBNA0Ymkqn6Q_r0NzT3a0pdgnH_c9ui5qf72lez_Aub...</td>\n",
       "      <td>tpp</td>\n",
       "      <td>1</td>\n",
       "      <td>0</td>\n",
       "      <td>0</td>\n",
       "      <td>734.290833</td>\n",
       "      <td>3628.12646</td>\n",
       "      <td>20</td>\n",
       "      <td>0</td>\n",
       "      <td>doushicaiMN</td>\n",
       "      <td>1460.299</td>\n",
       "      <td>100008</td>\n",
       "      <td>20</td>\n",
       "      <td>6</td>\n",
       "      <td>23</td>\n",
       "    </tr>\n",
       "  </tbody>\n",
       "</table>\n",
       "</div>"
      ],
      "text/plain": [
       "                 date  game_size  \\\n",
       "0 2017-12-27 20:20:31         48   \n",
       "1 2018-01-01 06:08:26         28   \n",
       "2 2017-12-17 23:05:22         87   \n",
       "\n",
       "                                            match_id match_mode  party_size  \\\n",
       "0  2U4GBNA0YmnMHZeAz4CH3TqfbVXa9KYNPgEsoXjtphE4Qm...        tpp           2   \n",
       "1  2U4GBNA0YmlRlJBlopOrzVTB5S2u-ryn86WvqBvX8-ar96...        tpp           4   \n",
       "2  2U4GBNA0Ymkqn6Q_r0NzT3a0pdgnH_c9ui5qf72lez_Aub...        tpp           1   \n",
       "\n",
       "   player_assists  player_dbno  player_dist_ride  player_dist_walk  \\\n",
       "0               0            1          0.000000          77.36951   \n",
       "1               0            0          0.000000           0.00000   \n",
       "2               0            0        734.290833        3628.12646   \n",
       "\n",
       "   player_dmg  player_kills      player_name  player_survive_time  team_id  \\\n",
       "0         100             0   yinghechiji777              149.366       22   \n",
       "1           0             0  HuYaTVzilong666              175.910       17   \n",
       "2          20             0      doushicaiMN             1460.299   100008   \n",
       "\n",
       "   team_placement  Day  Hour  \n",
       "0              42    2    20  \n",
       "1               5    0     6  \n",
       "2              20    6    23  "
      ]
     },
     "execution_count": 13,
     "metadata": {},
     "output_type": "execute_result"
    }
   ],
   "source": [
    "data.head(3)"
   ]
  },
  {
   "cell_type": "markdown",
   "metadata": {},
   "source": [
    "### Getting Rid of Redundant Variables"
   ]
  },
  {
   "cell_type": "code",
   "execution_count": 14,
   "metadata": {},
   "outputs": [],
   "source": [
    "del data['date']  # As we have already extracted the useful info i.e. Weekday and Hour\n",
    "del data['match_mode']  # Because all the matches were played in TPP (Third-Person Perspective) mode\n",
    "del data['team_id']  # Because we already have match_id and player_name to uniquely identify an instance"
   ]
  },
  {
   "cell_type": "markdown",
   "metadata": {},
   "source": [
    "## Steps\n",
    "*  Problem Identification \n",
    "*  Hypothesis Generation\n",
    "*  Variable Identification\n",
    "*  Univariate Analysis\n",
    "*  Bivariate Analysis\n",
    "*  Missing Values\n",
    "*  Outliers\n",
    "*  Feature Engineering/Variable Transformation\n",
    "*  Predictive Modeling\n",
    "*  Analysing the Model\n",
    "*  Final Model Selection"
   ]
  },
  {
   "cell_type": "markdown",
   "metadata": {},
   "source": [
    "## Variable Identification & their datatypes\n",
    "Identify the predictor and target variables & their data types along with the category of variables"
   ]
  },
  {
   "cell_type": "code",
   "execution_count": 15,
   "metadata": {},
   "outputs": [
    {
     "data": {
      "text/plain": [
       "game_size                int64\n",
       "match_id                object\n",
       "party_size               int64\n",
       "player_assists           int64\n",
       "player_dbno              int64\n",
       "player_dist_ride       float64\n",
       "player_dist_walk       float64\n",
       "player_dmg               int64\n",
       "player_kills             int64\n",
       "player_name             object\n",
       "player_survive_time    float64\n",
       "team_placement           int64\n",
       "Day                      int64\n",
       "Hour                     int64\n",
       "dtype: object"
      ]
     },
     "execution_count": 15,
     "metadata": {},
     "output_type": "execute_result"
    }
   ],
   "source": [
    "data.dtypes"
   ]
  },
  {
   "cell_type": "markdown",
   "metadata": {},
   "source": [
    "Normally, numeric columns in python are represented as \"int32\", \"float32\", \"int64\", \"float64\". Whereas character columns are represented as \"object\""
   ]
  },
  {
   "cell_type": "markdown",
   "metadata": {},
   "source": [
    "## Univariate Analysis\n",
    "Analysing the variables one at a time. Let's analyse coninuous and categorical variables separately."
   ]
  },
  {
   "cell_type": "markdown",
   "metadata": {},
   "source": [
    "### For Continuous Variables : We generally measure the central tendency of the variable such as Mean , Median , Mode , Std, variance ,etc.\n",
    "* Basic Statistics\n",
    "* Plotting Histogram\n",
    "* Plotting Boxplot"
   ]
  },
  {
   "cell_type": "code",
   "execution_count": 16,
   "metadata": {},
   "outputs": [
    {
     "data": {
      "text/html": [
       "<div>\n",
       "<style scoped>\n",
       "    .dataframe tbody tr th:only-of-type {\n",
       "        vertical-align: middle;\n",
       "    }\n",
       "\n",
       "    .dataframe tbody tr th {\n",
       "        vertical-align: top;\n",
       "    }\n",
       "\n",
       "    .dataframe thead th {\n",
       "        text-align: right;\n",
       "    }\n",
       "</style>\n",
       "<table border=\"1\" class=\"dataframe\">\n",
       "  <thead>\n",
       "    <tr style=\"text-align: right;\">\n",
       "      <th></th>\n",
       "      <th>game_size</th>\n",
       "      <th>party_size</th>\n",
       "      <th>player_assists</th>\n",
       "      <th>player_dbno</th>\n",
       "      <th>player_dist_ride</th>\n",
       "      <th>player_dist_walk</th>\n",
       "      <th>player_dmg</th>\n",
       "      <th>player_kills</th>\n",
       "      <th>player_survive_time</th>\n",
       "      <th>team_placement</th>\n",
       "      <th>Day</th>\n",
       "      <th>Hour</th>\n",
       "    </tr>\n",
       "  </thead>\n",
       "  <tbody>\n",
       "    <tr>\n",
       "      <th>count</th>\n",
       "      <td>100000.000000</td>\n",
       "      <td>100000.000000</td>\n",
       "      <td>100000.000000</td>\n",
       "      <td>100000.000000</td>\n",
       "      <td>100000.000000</td>\n",
       "      <td>100000.000000</td>\n",
       "      <td>100000.000000</td>\n",
       "      <td>100000.000000</td>\n",
       "      <td>1.000000e+05</td>\n",
       "      <td>100000.000000</td>\n",
       "      <td>100000.000000</td>\n",
       "      <td>100000.000000</td>\n",
       "    </tr>\n",
       "    <tr>\n",
       "      <th>mean</th>\n",
       "      <td>47.270370</td>\n",
       "      <td>2.731850</td>\n",
       "      <td>0.228080</td>\n",
       "      <td>0.585070</td>\n",
       "      <td>1151.386508</td>\n",
       "      <td>1298.287998</td>\n",
       "      <td>124.314390</td>\n",
       "      <td>0.890040</td>\n",
       "      <td>6.372631e+05</td>\n",
       "      <td>24.603160</td>\n",
       "      <td>3.128460</td>\n",
       "      <td>10.184140</td>\n",
       "    </tr>\n",
       "    <tr>\n",
       "      <th>std</th>\n",
       "      <td>25.312755</td>\n",
       "      <td>1.248952</td>\n",
       "      <td>0.572698</td>\n",
       "      <td>1.120186</td>\n",
       "      <td>1966.536482</td>\n",
       "      <td>5231.317844</td>\n",
       "      <td>170.412194</td>\n",
       "      <td>1.571233</td>\n",
       "      <td>2.012723e+08</td>\n",
       "      <td>20.505446</td>\n",
       "      <td>2.052345</td>\n",
       "      <td>6.994827</td>\n",
       "    </tr>\n",
       "    <tr>\n",
       "      <th>min</th>\n",
       "      <td>10.000000</td>\n",
       "      <td>1.000000</td>\n",
       "      <td>0.000000</td>\n",
       "      <td>0.000000</td>\n",
       "      <td>0.000000</td>\n",
       "      <td>0.000000</td>\n",
       "      <td>0.000000</td>\n",
       "      <td>0.000000</td>\n",
       "      <td>0.000000e+00</td>\n",
       "      <td>1.000000</td>\n",
       "      <td>0.000000</td>\n",
       "      <td>0.000000</td>\n",
       "    </tr>\n",
       "    <tr>\n",
       "      <th>25%</th>\n",
       "      <td>27.000000</td>\n",
       "      <td>2.000000</td>\n",
       "      <td>0.000000</td>\n",
       "      <td>0.000000</td>\n",
       "      <td>0.000000</td>\n",
       "      <td>209.363356</td>\n",
       "      <td>0.000000</td>\n",
       "      <td>0.000000</td>\n",
       "      <td>2.459485e+02</td>\n",
       "      <td>10.000000</td>\n",
       "      <td>1.000000</td>\n",
       "      <td>4.000000</td>\n",
       "    </tr>\n",
       "    <tr>\n",
       "      <th>50%</th>\n",
       "      <td>43.000000</td>\n",
       "      <td>2.000000</td>\n",
       "      <td>0.000000</td>\n",
       "      <td>0.000000</td>\n",
       "      <td>0.000000</td>\n",
       "      <td>841.050751</td>\n",
       "      <td>77.000000</td>\n",
       "      <td>0.000000</td>\n",
       "      <td>6.498910e+02</td>\n",
       "      <td>20.000000</td>\n",
       "      <td>3.000000</td>\n",
       "      <td>9.000000</td>\n",
       "    </tr>\n",
       "    <tr>\n",
       "      <th>75%</th>\n",
       "      <td>50.000000</td>\n",
       "      <td>4.000000</td>\n",
       "      <td>0.000000</td>\n",
       "      <td>1.000000</td>\n",
       "      <td>1887.781010</td>\n",
       "      <td>2052.841122</td>\n",
       "      <td>174.000000</td>\n",
       "      <td>1.000000</td>\n",
       "      <td>1.296196e+03</td>\n",
       "      <td>33.000000</td>\n",
       "      <td>5.000000</td>\n",
       "      <td>16.000000</td>\n",
       "    </tr>\n",
       "    <tr>\n",
       "      <th>max</th>\n",
       "      <td>100.000000</td>\n",
       "      <td>4.000000</td>\n",
       "      <td>9.000000</td>\n",
       "      <td>24.000000</td>\n",
       "      <td>175249.100000</td>\n",
       "      <td>752862.250000</td>\n",
       "      <td>4472.000000</td>\n",
       "      <td>45.000000</td>\n",
       "      <td>6.364788e+10</td>\n",
       "      <td>100.000000</td>\n",
       "      <td>6.000000</td>\n",
       "      <td>23.000000</td>\n",
       "    </tr>\n",
       "  </tbody>\n",
       "</table>\n",
       "</div>"
      ],
      "text/plain": [
       "           game_size     party_size  player_assists    player_dbno  \\\n",
       "count  100000.000000  100000.000000   100000.000000  100000.000000   \n",
       "mean       47.270370       2.731850        0.228080       0.585070   \n",
       "std        25.312755       1.248952        0.572698       1.120186   \n",
       "min        10.000000       1.000000        0.000000       0.000000   \n",
       "25%        27.000000       2.000000        0.000000       0.000000   \n",
       "50%        43.000000       2.000000        0.000000       0.000000   \n",
       "75%        50.000000       4.000000        0.000000       1.000000   \n",
       "max       100.000000       4.000000        9.000000      24.000000   \n",
       "\n",
       "       player_dist_ride  player_dist_walk     player_dmg   player_kills  \\\n",
       "count     100000.000000     100000.000000  100000.000000  100000.000000   \n",
       "mean        1151.386508       1298.287998     124.314390       0.890040   \n",
       "std         1966.536482       5231.317844     170.412194       1.571233   \n",
       "min            0.000000          0.000000       0.000000       0.000000   \n",
       "25%            0.000000        209.363356       0.000000       0.000000   \n",
       "50%            0.000000        841.050751      77.000000       0.000000   \n",
       "75%         1887.781010       2052.841122     174.000000       1.000000   \n",
       "max       175249.100000     752862.250000    4472.000000      45.000000   \n",
       "\n",
       "       player_survive_time  team_placement            Day           Hour  \n",
       "count         1.000000e+05   100000.000000  100000.000000  100000.000000  \n",
       "mean          6.372631e+05       24.603160       3.128460      10.184140  \n",
       "std           2.012723e+08       20.505446       2.052345       6.994827  \n",
       "min           0.000000e+00        1.000000       0.000000       0.000000  \n",
       "25%           2.459485e+02       10.000000       1.000000       4.000000  \n",
       "50%           6.498910e+02       20.000000       3.000000       9.000000  \n",
       "75%           1.296196e+03       33.000000       5.000000      16.000000  \n",
       "max           6.364788e+10      100.000000       6.000000      23.000000  "
      ]
     },
     "execution_count": 16,
     "metadata": {},
     "output_type": "execute_result"
    }
   ],
   "source": [
    "data.describe()"
   ]
  },
  {
   "cell_type": "code",
   "execution_count": 17,
   "metadata": {},
   "outputs": [
    {
     "data": {
      "text/plain": [
       "<seaborn.axisgrid.PairGrid at 0x7ff859a729b0>"
      ]
     },
     "execution_count": 17,
     "metadata": {},
     "output_type": "execute_result"
    },
    {
     "data": {
      "image/png": "[encoded data removed]",
      "text/plain": [
       "<Figure size 720x720 with 20 Axes>"
      ]
     },
     "metadata": {},
     "output_type": "display_data"
    }
   ],
   "source": [
    "cont_vars = ['player_dbno', 'player_dist_walk', 'player_dmg', 'player_kills']\n",
    "sns.pairplot(data[cont_vars])"
   ]
  },
  {
   "cell_type": "code",
   "execution_count": 18,
   "metadata": {},
   "outputs": [
    {
     "data": {
      "image/png": "[encoded data removed]",
      "text/plain": [
       "<Figure size 432x288 with 1 Axes>"
      ]
     },
     "metadata": {},
     "output_type": "display_data"
    }
   ],
   "source": [
    "#Plotting histogram for 'player_kills' variable\n",
    "sns.distplot(data['player_kills'], color=\"purple\", kde=False)\n",
    "plt.title(\"Distribution of Number of Kills\")\n",
    "plt.ylabel(\"Number of Occurences\")\n",
    "plt.xlabel(\"Number of Kills\");"
   ]
  },
  {
   "cell_type": "code",
   "execution_count": 19,
   "metadata": {},
   "outputs": [
    {
     "data": {
      "text/plain": [
       "{5: 16443, 6: 16290, 4: 14458, 0: 14155, 1: 13860, 2: 13183, 3: 11611}"
      ]
     },
     "execution_count": 19,
     "metadata": {},
     "output_type": "execute_result"
    }
   ],
   "source": [
    "weekday_map = {0: 'Monday', 1: 'Tuesday', 2: 'Wednesday', 3: 'Thursday', 4: 'Friday', 5: 'Saturday', 6: 'Sunday'}\n",
    "dict(data.Day.value_counts())"
   ]
  },
  {
   "cell_type": "code",
   "execution_count": 20,
   "metadata": {},
   "outputs": [
    {
     "data": {
      "text/plain": [
       "Text(0.5,0.98,'Categorical Plotting')"
      ]
     },
     "execution_count": 20,
     "metadata": {},
     "output_type": "execute_result"
    },
    {
     "data": {
      "image/png": "[encoded data removed]",
      "text/plain": [
       "<Figure size 864x360 with 2 Axes>"
      ]
     },
     "metadata": {},
     "output_type": "display_data"
    }
   ],
   "source": [
    "#Plotting histogram for 'Day' variable\n",
    "week_data = {'Mon': 14155, 'Tue': 13860, 'Wed': 13183, 'Thu': 11611, 'Fri': 14458, 'Sat': 16443, 'Sun': 16290}\n",
    "names = list(week_data.keys())\n",
    "values = list(week_data.values())\n",
    "\n",
    "fig, axs = plt.subplots(1, 2, figsize=(12, 5), sharey=True)\n",
    "axs[0].bar(names, values)\n",
    "axs[1].plot(names, values)\n",
    "fig.suptitle('Categorical Plotting')"
   ]
  },
  {
   "cell_type": "code",
   "execution_count": 21,
   "metadata": {},
   "outputs": [
    {
     "data": {
      "image/png": "[encoded data removed]",
      "text/plain": [
       "<Figure size 432x288 with 1 Axes>"
      ]
     },
     "metadata": {},
     "output_type": "display_data"
    }
   ],
   "source": [
    "sns.boxplot(\"game_size\", data=data, showfliers=False)\n",
    "plt.title(\"Distribution of game_size\")\n",
    "plt.xlabel(\"Number of Teams in Game\");"
   ]
  },
  {
   "cell_type": "markdown",
   "metadata": {},
   "source": [
    "### For categorical variables: We generally measure the frequency of categories appearing in a particular categorical variable\n",
    "* Count/Frequency Table\n",
    "* Plotting Stacked Bar Graph"
   ]
  },
  {
   "cell_type": "code",
   "execution_count": 22,
   "metadata": {},
   "outputs": [],
   "source": [
    "categorical_variables = ['party_size', 'Day', 'Hour']"
   ]
  },
  {
   "cell_type": "code",
   "execution_count": 23,
   "metadata": {},
   "outputs": [
    {
     "data": {
      "text/plain": [
       "['party_size', 'Day', 'Hour']"
      ]
     },
     "execution_count": 23,
     "metadata": {},
     "output_type": "execute_result"
    }
   ],
   "source": [
    "categorical_variables"
   ]
  },
  {
   "cell_type": "code",
   "execution_count": 24,
   "metadata": {},
   "outputs": [
    {
     "data": {
      "text/plain": [
       "party_size     3\n",
       "Day            7\n",
       "Hour          24\n",
       "dtype: int64"
      ]
     },
     "execution_count": 24,
     "metadata": {},
     "output_type": "execute_result"
    }
   ],
   "source": [
    "data[categorical_variables].apply(lambda x: len(x.unique()))"
   ]
  },
  {
   "cell_type": "code",
   "execution_count": 25,
   "metadata": {},
   "outputs": [
    {
     "name": "stdout",
     "output_type": "stream",
     "text": [
      "party_size\n",
      "4    47122\n",
      "2    31819\n",
      "1    21059\n",
      "Name: party_size, dtype: int64\n",
      "\n",
      "\n",
      "Day\n",
      "5    16443\n",
      "6    16290\n",
      "4    14458\n",
      "0    14155\n",
      "1    13860\n",
      "2    13183\n",
      "3    11611\n",
      "Name: Day, dtype: int64\n",
      "\n",
      "\n",
      "Hour\n",
      "4     6579\n",
      "5     6321\n",
      "6     6010\n",
      "3     6006\n",
      "2     5394\n",
      "7     5240\n",
      "1     4975\n",
      "8     4538\n",
      "0     4139\n",
      "23    3856\n",
      "9     3745\n",
      "22    3712\n",
      "21    3614\n",
      "19    3404\n",
      "20    3401\n",
      "13    3390\n",
      "14    3373\n",
      "12    3353\n",
      "11    3267\n",
      "10    3234\n",
      "15    3213\n",
      "17    3087\n",
      "18    3079\n",
      "16    3070\n",
      "Name: Hour, dtype: int64\n",
      "\n",
      "\n"
     ]
    }
   ],
   "source": [
    "for var in categorical_variables:\n",
    "    print(var)\n",
    "    print(data[var].value_counts())\n",
    "    print('\\n')"
   ]
  },
  {
   "cell_type": "code",
   "execution_count": 26,
   "metadata": {},
   "outputs": [
    {
     "data": {
      "image/png": "[encoded data removed]",
      "text/plain": [
       "<Figure size 432x288 with 1 Axes>"
      ]
     },
     "metadata": {},
     "output_type": "display_data"
    }
   ],
   "source": [
    "labels = data['party_size'].unique()\n",
    "sizes = data['party_size'].value_counts().values\n",
    "explode=[0.1,0,0]\n",
    "parcent = 100.*sizes/sizes.sum()\n",
    "labels = ['{0} - {1:1.1f} %'.format(i,j) for i,j in zip(labels, parcent)]\n",
    "\n",
    "colors = ['yellowgreen', 'gold', 'lightblue']\n",
    "patches, texts= plt.pie(sizes, colors=colors,explode=explode,\n",
    "                        shadow=True,startangle=90)\n",
    "plt.legend(patches, labels, loc=\"best\")\n",
    "\n",
    "plt.title(\"Party Size Classification\")\n",
    "plt.show()"
   ]
  },
  {
   "cell_type": "markdown",
   "metadata": {},
   "source": [
    "## Bivariate Analysis\n",
    "Bivariate analysis is used to find out the relationship between any 2 variables. It can be done for any combination of variables. The combinations are: \n",
    "* Continuous & Continuous\n",
    "* Categorical & Continuous\n",
    "* Categorical & Categorical"
   ]
  },
  {
   "cell_type": "markdown",
   "metadata": {},
   "source": [
    "### Continuous & Continuous\n",
    "Scatter Plots are used"
   ]
  },
  {
   "cell_type": "code",
   "execution_count": 27,
   "metadata": {},
   "outputs": [
    {
     "data": {
      "image/png": "[encoded data removed]",
      "text/plain": [
       "<Figure size 432x288 with 1 Axes>"
      ]
     },
     "metadata": {},
     "output_type": "display_data"
    }
   ],
   "source": [
    "plt.scatter(np.sqrt(data[\"player_dmg\"]), data[\"player_dbno\"])\n",
    "plt.title(\"Hitpoints Dealt Vs Survival Time \")\n",
    "plt.ylabel(\"No. of DBNO's\")\n",
    "plt.xlabel(\"Hitploints Dealt by the Player\");"
   ]
  },
  {
   "cell_type": "code",
   "execution_count": 28,
   "metadata": {},
   "outputs": [
    {
     "data": {
      "image/png": "[encoded data removed]",
      "text/plain": [
       "<Figure size 648x648 with 2 Axes>"
      ]
     },
     "metadata": {},
     "output_type": "display_data"
    }
   ],
   "source": [
    "corrMatrix = data[[\"game_size\", \"player_assists\", \"player_dbno\",\n",
    "                   \"player_dist_ride\", \"player_dist_walk\", \"player_dmg\",\n",
    "                   \"player_survive_time\", \"team_placement\", \"player_kills\"]].corr()\n",
    "\n",
    "sns.set(font_scale=1.10)\n",
    "plt.figure(figsize=(9, 9))\n",
    "\n",
    "sns.heatmap(corrMatrix, vmax=.8, linewidths=0.01,\n",
    "            square=True,annot=True,cmap='viridis',linecolor=\"white\")\n",
    "plt.title('Correlation between features');"
   ]
  },
  {
   "cell_type": "markdown",
   "metadata": {
    "collapsed": true
   },
   "source": [
    "+1 : perfect postive correlation ; -1 : perfect negative correlation ; 0 : No correlation"
   ]
  },
  {
   "cell_type": "markdown",
   "metadata": {},
   "source": [
    "### Categorical & Continuous\n",
    "Boxlots can be used"
   ]
  },
  {
   "cell_type": "code",
   "execution_count": 29,
   "metadata": {},
   "outputs": [
    {
     "data": {
      "image/png": "[encoded data removed]",
      "text/plain": [
       "<Figure size 432x288 with 1 Axes>"
      ]
     },
     "metadata": {},
     "output_type": "display_data"
    }
   ],
   "source": [
    "sns.boxplot(data[\"party_size\"], data[\"player_survive_time\"], showfliers=False)\n",
    "plt.title(\"Survival Time vs Team Size\")\n",
    "plt.ylabel(\"Survival Time\")\n",
    "plt.xlabel(\"Team Size\");"
   ]
  },
  {
   "cell_type": "markdown",
   "metadata": {},
   "source": [
    "### Categorical and categorical\n",
    "Crosstable and stacked bar plots are used"
   ]
  },
  {
   "cell_type": "code",
   "execution_count": 30,
   "metadata": {},
   "outputs": [],
   "source": [
    "crosstable = pd.crosstab(data.Day, data.party_size)"
   ]
  },
  {
   "cell_type": "code",
   "execution_count": 31,
   "metadata": {},
   "outputs": [
    {
     "data": {
      "text/html": [
       "<div>\n",
       "<style scoped>\n",
       "    .dataframe tbody tr th:only-of-type {\n",
       "        vertical-align: middle;\n",
       "    }\n",
       "\n",
       "    .dataframe tbody tr th {\n",
       "        vertical-align: top;\n",
       "    }\n",
       "\n",
       "    .dataframe thead th {\n",
       "        text-align: right;\n",
       "    }\n",
       "</style>\n",
       "<table border=\"1\" class=\"dataframe\">\n",
       "  <thead>\n",
       "    <tr style=\"text-align: right;\">\n",
       "      <th>party_size</th>\n",
       "      <th>1</th>\n",
       "      <th>2</th>\n",
       "      <th>4</th>\n",
       "    </tr>\n",
       "    <tr>\n",
       "      <th>Day</th>\n",
       "      <th></th>\n",
       "      <th></th>\n",
       "      <th></th>\n",
       "    </tr>\n",
       "  </thead>\n",
       "  <tbody>\n",
       "    <tr>\n",
       "      <th>0</th>\n",
       "      <td>3000</td>\n",
       "      <td>4551</td>\n",
       "      <td>6604</td>\n",
       "    </tr>\n",
       "    <tr>\n",
       "      <th>1</th>\n",
       "      <td>2887</td>\n",
       "      <td>4363</td>\n",
       "      <td>6610</td>\n",
       "    </tr>\n",
       "    <tr>\n",
       "      <th>2</th>\n",
       "      <td>2734</td>\n",
       "      <td>4179</td>\n",
       "      <td>6270</td>\n",
       "    </tr>\n",
       "    <tr>\n",
       "      <th>3</th>\n",
       "      <td>2534</td>\n",
       "      <td>3761</td>\n",
       "      <td>5316</td>\n",
       "    </tr>\n",
       "    <tr>\n",
       "      <th>4</th>\n",
       "      <td>3098</td>\n",
       "      <td>4558</td>\n",
       "      <td>6802</td>\n",
       "    </tr>\n",
       "    <tr>\n",
       "      <th>5</th>\n",
       "      <td>3406</td>\n",
       "      <td>5153</td>\n",
       "      <td>7884</td>\n",
       "    </tr>\n",
       "    <tr>\n",
       "      <th>6</th>\n",
       "      <td>3400</td>\n",
       "      <td>5254</td>\n",
       "      <td>7636</td>\n",
       "    </tr>\n",
       "  </tbody>\n",
       "</table>\n",
       "</div>"
      ],
      "text/plain": [
       "party_size     1     2     4\n",
       "Day                         \n",
       "0           3000  4551  6604\n",
       "1           2887  4363  6610\n",
       "2           2734  4179  6270\n",
       "3           2534  3761  5316\n",
       "4           3098  4558  6802\n",
       "5           3406  5153  7884\n",
       "6           3400  5254  7636"
      ]
     },
     "execution_count": 31,
     "metadata": {},
     "output_type": "execute_result"
    }
   ],
   "source": [
    "crosstable"
   ]
  },
  {
   "cell_type": "code",
   "execution_count": 32,
   "metadata": {},
   "outputs": [
    {
     "data": {
      "text/plain": [
       "<matplotlib.axes._subplots.AxesSubplot at 0x7ff8583b0e80>"
      ]
     },
     "execution_count": 32,
     "metadata": {},
     "output_type": "execute_result"
    },
    {
     "data": {
      "image/png": "[encoded data removed]",
      "text/plain": [
       "<Figure size 432x288 with 1 Axes>"
      ]
     },
     "metadata": {},
     "output_type": "display_data"
    }
   ],
   "source": [
    "# Plotting stacked bar plot\n",
    "crosstable.plot(kind='bar',stacked='True')"
   ]
  },
  {
   "cell_type": "markdown",
   "metadata": {},
   "source": [
    "## Missing Values"
   ]
  },
  {
   "cell_type": "code",
   "execution_count": 33,
   "metadata": {},
   "outputs": [
    {
     "data": {
      "text/plain": [
       "game_size                0\n",
       "match_id                 0\n",
       "party_size               0\n",
       "player_assists           0\n",
       "player_dbno              0\n",
       "player_dist_ride         0\n",
       "player_dist_walk         0\n",
       "player_dmg               0\n",
       "player_kills             0\n",
       "player_name            127\n",
       "player_survive_time      0\n",
       "team_placement           0\n",
       "Day                      0\n",
       "Hour                     0\n",
       "dtype: int64"
      ]
     },
     "execution_count": 33,
     "metadata": {},
     "output_type": "execute_result"
    }
   ],
   "source": [
    "# Detecting missing values\n",
    "data.isnull().sum()"
   ]
  },
  {
   "cell_type": "code",
   "execution_count": 34,
   "metadata": {},
   "outputs": [
    {
     "data": {
      "text/plain": [
       "'\\nTreating missing values:\\n1) For continuous variables impute with mean\\n2) For categorical variables impute with mode\\n3) For better results predict missing values in a variable by considering it target variable\\n4) If missing values are less then we can delete the observations having missing values\\n'"
      ]
     },
     "execution_count": 34,
     "metadata": {},
     "output_type": "execute_result"
    }
   ],
   "source": [
    "'''\n",
    "Treating missing values:\n",
    "1) For continuous variables impute with mean\n",
    "2) For categorical variables impute with mode\n",
    "3) For better results predict missing values in a variable by considering it target variable\n",
    "4) If missing values are less then we can delete the observations having missing values\n",
    "'''"
   ]
  },
  {
   "cell_type": "markdown",
   "metadata": {},
   "source": [
    "## Outliers\n",
    "Outliers are the data points showing out of the box behaviour or that appears far away from the overall trend."
   ]
  },
  {
   "cell_type": "code",
   "execution_count": 35,
   "metadata": {},
   "outputs": [
    {
     "data": {
      "image/png": "[encoded data removed]",
      "text/plain": [
       "<Figure size 432x288 with 1 Axes>"
      ]
     },
     "metadata": {},
     "output_type": "display_data"
    }
   ],
   "source": [
    "sns.boxplot(\"player_survive_time\", data=data, showfliers=True)\n",
    "plt.title(\"Distribution of Survival Time\")\n",
    "plt.xlabel(\"Survival Time\");"
   ]
  },
  {
   "cell_type": "code",
   "execution_count": 36,
   "metadata": {},
   "outputs": [],
   "source": [
    "#Treating outliers\n",
    "Q1 = data['player_survive_time'].quantile(.25)\n",
    "Q3 = data['player_survive_time'].quantile(.75)\n",
    "IQR = Q3-Q1\n",
    "lower_value = IQR-1.5*Q1\n",
    "upper_value = IQR+1.5*Q3"
   ]
  },
  {
   "cell_type": "code",
   "execution_count": 37,
   "metadata": {},
   "outputs": [
    {
     "data": {
      "text/plain": [
       "681.3247500000002"
      ]
     },
     "execution_count": 37,
     "metadata": {},
     "output_type": "execute_result"
    }
   ],
   "source": [
    "lower_value"
   ]
  },
  {
   "cell_type": "code",
   "execution_count": 38,
   "metadata": {},
   "outputs": [
    {
     "data": {
      "text/plain": [
       "2994.5415000000003"
      ]
     },
     "execution_count": 38,
     "metadata": {},
     "output_type": "execute_result"
    }
   ],
   "source": [
    "upper_value"
   ]
  },
  {
   "cell_type": "code",
   "execution_count": 39,
   "metadata": {},
   "outputs": [],
   "source": [
    "def outlier_imputer(x):\n",
    "    if x < lower_value or x > upper_value:\n",
    "        return data['player_survive_time'].median()\n",
    "    else:\n",
    "        return x"
   ]
  },
  {
   "cell_type": "code",
   "execution_count": 40,
   "metadata": {},
   "outputs": [],
   "source": [
    "result = data['player_survive_time'].apply(outlier_imputer)  # This would take a lil bit time to run"
   ]
  },
  {
   "cell_type": "code",
   "execution_count": 41,
   "metadata": {},
   "outputs": [
    {
     "data": {
      "image/png": "[encoded data removed]",
      "text/plain": [
       "<Figure size 432x288 with 1 Axes>"
      ]
     },
     "metadata": {},
     "output_type": "display_data"
    }
   ],
   "source": [
    "sns.boxplot(result, showfliers=True)\n",
    "plt.title(\"Distribution of Survival Time\")\n",
    "plt.xlabel(\"Survival Time\");"
   ]
  },
  {
   "cell_type": "markdown",
   "metadata": {},
   "source": [
    "# Building the First Model"
   ]
  },
  {
   "cell_type": "code",
   "execution_count": 42,
   "metadata": {},
   "outputs": [],
   "source": [
    "dependent_variable = 'player_kills'\n",
    "independent_variable = ['game_size', 'party_size', 'player_assists', 'player_dbno', 'player_dist_ride', 'Hour', \n",
    "                        'player_dist_walk', 'player_dmg', 'player_survive_time', 'team_placement', 'Day']"
   ]
  },
  {
   "cell_type": "code",
   "execution_count": 43,
   "metadata": {},
   "outputs": [
    {
     "data": {
      "text/plain": [
       "['game_size',\n",
       " 'party_size',\n",
       " 'player_assists',\n",
       " 'player_dbno',\n",
       " 'player_dist_ride',\n",
       " 'Hour',\n",
       " 'player_dist_walk',\n",
       " 'player_dmg',\n",
       " 'player_survive_time',\n",
       " 'team_placement',\n",
       " 'Day']"
      ]
     },
     "execution_count": 43,
     "metadata": {},
     "output_type": "execute_result"
    }
   ],
   "source": [
    "independent_variable"
   ]
  },
  {
   "cell_type": "markdown",
   "metadata": {},
   "source": [
    "###  Splitting our data into training and testing data"
   ]
  },
  {
   "cell_type": "code",
   "execution_count": 44,
   "metadata": {},
   "outputs": [],
   "source": [
    "from sklearn.model_selection import train_test_split"
   ]
  },
  {
   "cell_type": "code",
   "execution_count": 45,
   "metadata": {},
   "outputs": [],
   "source": [
    "train, test = train_test_split(data, test_size=.2, shuffle=True, random_state=42)"
   ]
  },
  {
   "cell_type": "code",
   "execution_count": 46,
   "metadata": {},
   "outputs": [
    {
     "data": {
      "text/html": [
       "<div>\n",
       "<style scoped>\n",
       "    .dataframe tbody tr th:only-of-type {\n",
       "        vertical-align: middle;\n",
       "    }\n",
       "\n",
       "    .dataframe tbody tr th {\n",
       "        vertical-align: top;\n",
       "    }\n",
       "\n",
       "    .dataframe thead th {\n",
       "        text-align: right;\n",
       "    }\n",
       "</style>\n",
       "<table border=\"1\" class=\"dataframe\">\n",
       "  <thead>\n",
       "    <tr style=\"text-align: right;\">\n",
       "      <th></th>\n",
       "      <th>game_size</th>\n",
       "      <th>match_id</th>\n",
       "      <th>party_size</th>\n",
       "      <th>player_assists</th>\n",
       "      <th>player_dbno</th>\n",
       "      <th>player_dist_ride</th>\n",
       "      <th>player_dist_walk</th>\n",
       "      <th>player_dmg</th>\n",
       "      <th>player_kills</th>\n",
       "      <th>player_name</th>\n",
       "      <th>player_survive_time</th>\n",
       "      <th>team_placement</th>\n",
       "      <th>Day</th>\n",
       "      <th>Hour</th>\n",
       "    </tr>\n",
       "  </thead>\n",
       "  <tbody>\n",
       "    <tr>\n",
       "      <th>75220</th>\n",
       "      <td>49</td>\n",
       "      <td>2U4GBNA0Ymlpxu4142IX3o0VZzQJWxV3uvCfgaoSSneSzi...</td>\n",
       "      <td>2</td>\n",
       "      <td>0</td>\n",
       "      <td>0</td>\n",
       "      <td>0.00000</td>\n",
       "      <td>104.313683</td>\n",
       "      <td>27</td>\n",
       "      <td>0</td>\n",
       "      <td>ProJabroni</td>\n",
       "      <td>126.936</td>\n",
       "      <td>47</td>\n",
       "      <td>2</td>\n",
       "      <td>15</td>\n",
       "    </tr>\n",
       "    <tr>\n",
       "      <th>48955</th>\n",
       "      <td>29</td>\n",
       "      <td>2U4GBNA0YmnHdEuuRhswbvvkIramvPuegAPii0sWtbS7ef...</td>\n",
       "      <td>4</td>\n",
       "      <td>0</td>\n",
       "      <td>0</td>\n",
       "      <td>1787.98840</td>\n",
       "      <td>769.627869</td>\n",
       "      <td>189</td>\n",
       "      <td>1</td>\n",
       "      <td>EcG_MrSnuggles</td>\n",
       "      <td>652.704</td>\n",
       "      <td>21</td>\n",
       "      <td>3</td>\n",
       "      <td>23</td>\n",
       "    </tr>\n",
       "    <tr>\n",
       "      <th>44966</th>\n",
       "      <td>28</td>\n",
       "      <td>2U4GBNA0YmljSPqKKHfcfoipkh7cRiO-uXfP-7I7AsWHUn...</td>\n",
       "      <td>4</td>\n",
       "      <td>0</td>\n",
       "      <td>0</td>\n",
       "      <td>0.00000</td>\n",
       "      <td>169.176331</td>\n",
       "      <td>0</td>\n",
       "      <td>0</td>\n",
       "      <td>MagPulFan</td>\n",
       "      <td>189.189</td>\n",
       "      <td>27</td>\n",
       "      <td>0</td>\n",
       "      <td>0</td>\n",
       "    </tr>\n",
       "    <tr>\n",
       "      <th>13568</th>\n",
       "      <td>27</td>\n",
       "      <td>2U4GBNA0YmlvqxL52PpOgbtSVoRkJgDg0u6786OfZzHc-0...</td>\n",
       "      <td>4</td>\n",
       "      <td>0</td>\n",
       "      <td>0</td>\n",
       "      <td>1516.74451</td>\n",
       "      <td>6631.514000</td>\n",
       "      <td>0</td>\n",
       "      <td>0</td>\n",
       "      <td>Just_get</td>\n",
       "      <td>1299.602</td>\n",
       "      <td>11</td>\n",
       "      <td>2</td>\n",
       "      <td>16</td>\n",
       "    </tr>\n",
       "    <tr>\n",
       "      <th>92727</th>\n",
       "      <td>28</td>\n",
       "      <td>2U4GBNA0YmmKewrBQtciTg85moN2kc-AM5UO3sPZlPbu8w...</td>\n",
       "      <td>4</td>\n",
       "      <td>0</td>\n",
       "      <td>2</td>\n",
       "      <td>0.00000</td>\n",
       "      <td>1492.816410</td>\n",
       "      <td>247</td>\n",
       "      <td>2</td>\n",
       "      <td>yujianQAQ</td>\n",
       "      <td>750.309</td>\n",
       "      <td>19</td>\n",
       "      <td>5</td>\n",
       "      <td>7</td>\n",
       "    </tr>\n",
       "  </tbody>\n",
       "</table>\n",
       "</div>"
      ],
      "text/plain": [
       "       game_size                                           match_id  \\\n",
       "75220         49  2U4GBNA0Ymlpxu4142IX3o0VZzQJWxV3uvCfgaoSSneSzi...   \n",
       "48955         29  2U4GBNA0YmnHdEuuRhswbvvkIramvPuegAPii0sWtbS7ef...   \n",
       "44966         28  2U4GBNA0YmljSPqKKHfcfoipkh7cRiO-uXfP-7I7AsWHUn...   \n",
       "13568         27  2U4GBNA0YmlvqxL52PpOgbtSVoRkJgDg0u6786OfZzHc-0...   \n",
       "92727         28  2U4GBNA0YmmKewrBQtciTg85moN2kc-AM5UO3sPZlPbu8w...   \n",
       "\n",
       "       party_size  player_assists  player_dbno  player_dist_ride  \\\n",
       "75220           2               0            0           0.00000   \n",
       "48955           4               0            0        1787.98840   \n",
       "44966           4               0            0           0.00000   \n",
       "13568           4               0            0        1516.74451   \n",
       "92727           4               0            2           0.00000   \n",
       "\n",
       "       player_dist_walk  player_dmg  player_kills     player_name  \\\n",
       "75220        104.313683          27             0      ProJabroni   \n",
       "48955        769.627869         189             1  EcG_MrSnuggles   \n",
       "44966        169.176331           0             0       MagPulFan   \n",
       "13568       6631.514000           0             0        Just_get   \n",
       "92727       1492.816410         247             2       yujianQAQ   \n",
       "\n",
       "       player_survive_time  team_placement  Day  Hour  \n",
       "75220              126.936              47    2    15  \n",
       "48955              652.704              21    3    23  \n",
       "44966              189.189              27    0     0  \n",
       "13568             1299.602              11    2    16  \n",
       "92727              750.309              19    5     7  "
      ]
     },
     "execution_count": 46,
     "metadata": {},
     "output_type": "execute_result"
    }
   ],
   "source": [
    "train.head()"
   ]
  },
  {
   "cell_type": "code",
   "execution_count": 47,
   "metadata": {},
   "outputs": [
    {
     "name": "stdout",
     "output_type": "stream",
     "text": [
      "100000\n",
      "80000\n",
      "20000\n"
     ]
    }
   ],
   "source": [
    "print(len(data))\n",
    "print(len(train))\n",
    "print(len(test))"
   ]
  },
  {
   "cell_type": "code",
   "execution_count": 48,
   "metadata": {},
   "outputs": [
    {
     "data": {
      "text/plain": [
       "1.0"
      ]
     },
     "execution_count": 48,
     "metadata": {},
     "output_type": "execute_result"
    }
   ],
   "source": [
    "# Predicting by using mode\n",
    "np.round(train['player_kills'].mean())  # train['player_kills'].mean() = 0.887"
   ]
  },
  {
   "cell_type": "code",
   "execution_count": 49,
   "metadata": {},
   "outputs": [],
   "source": [
    "test['prediction'] = 1.0"
   ]
  },
  {
   "cell_type": "code",
   "execution_count": 50,
   "metadata": {},
   "outputs": [
    {
     "data": {
      "text/html": [
       "<div>\n",
       "<style scoped>\n",
       "    .dataframe tbody tr th:only-of-type {\n",
       "        vertical-align: middle;\n",
       "    }\n",
       "\n",
       "    .dataframe tbody tr th {\n",
       "        vertical-align: top;\n",
       "    }\n",
       "\n",
       "    .dataframe thead th {\n",
       "        text-align: right;\n",
       "    }\n",
       "</style>\n",
       "<table border=\"1\" class=\"dataframe\">\n",
       "  <thead>\n",
       "    <tr style=\"text-align: right;\">\n",
       "      <th></th>\n",
       "      <th>game_size</th>\n",
       "      <th>match_id</th>\n",
       "      <th>party_size</th>\n",
       "      <th>player_assists</th>\n",
       "      <th>player_dbno</th>\n",
       "      <th>player_dist_ride</th>\n",
       "      <th>player_dist_walk</th>\n",
       "      <th>player_dmg</th>\n",
       "      <th>player_kills</th>\n",
       "      <th>player_name</th>\n",
       "      <th>player_survive_time</th>\n",
       "      <th>team_placement</th>\n",
       "      <th>Day</th>\n",
       "      <th>Hour</th>\n",
       "      <th>prediction</th>\n",
       "    </tr>\n",
       "  </thead>\n",
       "  <tbody>\n",
       "    <tr>\n",
       "      <th>75721</th>\n",
       "      <td>27</td>\n",
       "      <td>2U4GBNA0YmnMybYTCwjE1_5gglbsrLk3_EQp1HlPHuH-5U...</td>\n",
       "      <td>4</td>\n",
       "      <td>0</td>\n",
       "      <td>0</td>\n",
       "      <td>0.00000</td>\n",
       "      <td>0.000000</td>\n",
       "      <td>0</td>\n",
       "      <td>0</td>\n",
       "      <td>YatmmfeNew</td>\n",
       "      <td>820.759</td>\n",
       "      <td>27</td>\n",
       "      <td>5</td>\n",
       "      <td>6</td>\n",
       "      <td>1.0</td>\n",
       "    </tr>\n",
       "    <tr>\n",
       "      <th>80184</th>\n",
       "      <td>92</td>\n",
       "      <td>2U4GBNA0Ymnuboe_B7WORcBZ0A10K9rR8q_bQfsfsSQ_WG...</td>\n",
       "      <td>1</td>\n",
       "      <td>0</td>\n",
       "      <td>0</td>\n",
       "      <td>1919.02515</td>\n",
       "      <td>1846.359380</td>\n",
       "      <td>104</td>\n",
       "      <td>1</td>\n",
       "      <td>FFC123</td>\n",
       "      <td>1009.946</td>\n",
       "      <td>30</td>\n",
       "      <td>2</td>\n",
       "      <td>21</td>\n",
       "      <td>1.0</td>\n",
       "    </tr>\n",
       "    <tr>\n",
       "      <th>19864</th>\n",
       "      <td>27</td>\n",
       "      <td>2U4GBNA0Ymk6eYbg9BVxAf-FtxgkQWQMwekaAJQwkbKbRj...</td>\n",
       "      <td>4</td>\n",
       "      <td>0</td>\n",
       "      <td>0</td>\n",
       "      <td>0.00000</td>\n",
       "      <td>704.500200</td>\n",
       "      <td>0</td>\n",
       "      <td>0</td>\n",
       "      <td>yangxin6666</td>\n",
       "      <td>392.734</td>\n",
       "      <td>20</td>\n",
       "      <td>5</td>\n",
       "      <td>10</td>\n",
       "      <td>1.0</td>\n",
       "    </tr>\n",
       "    <tr>\n",
       "      <th>76699</th>\n",
       "      <td>94</td>\n",
       "      <td>2U4GBNA0YmkHCVuElMLcGhuCNQ0D5ygbfK5dPViRUZ2WM-...</td>\n",
       "      <td>1</td>\n",
       "      <td>0</td>\n",
       "      <td>0</td>\n",
       "      <td>0.00000</td>\n",
       "      <td>138.920624</td>\n",
       "      <td>0</td>\n",
       "      <td>0</td>\n",
       "      <td>HHH-Fiona</td>\n",
       "      <td>131.468</td>\n",
       "      <td>84</td>\n",
       "      <td>0</td>\n",
       "      <td>14</td>\n",
       "      <td>1.0</td>\n",
       "    </tr>\n",
       "    <tr>\n",
       "      <th>92991</th>\n",
       "      <td>40</td>\n",
       "      <td>2U4GBNA0Ymkx9m29nap1h44b4geiasv7aNaBGAqbc62-t8...</td>\n",
       "      <td>2</td>\n",
       "      <td>0</td>\n",
       "      <td>1</td>\n",
       "      <td>0.00000</td>\n",
       "      <td>363.146851</td>\n",
       "      <td>182</td>\n",
       "      <td>2</td>\n",
       "      <td>Super-Zach</td>\n",
       "      <td>337.183</td>\n",
       "      <td>30</td>\n",
       "      <td>0</td>\n",
       "      <td>0</td>\n",
       "      <td>1.0</td>\n",
       "    </tr>\n",
       "  </tbody>\n",
       "</table>\n",
       "</div>"
      ],
      "text/plain": [
       "       game_size                                           match_id  \\\n",
       "75721         27  2U4GBNA0YmnMybYTCwjE1_5gglbsrLk3_EQp1HlPHuH-5U...   \n",
       "80184         92  2U4GBNA0Ymnuboe_B7WORcBZ0A10K9rR8q_bQfsfsSQ_WG...   \n",
       "19864         27  2U4GBNA0Ymk6eYbg9BVxAf-FtxgkQWQMwekaAJQwkbKbRj...   \n",
       "76699         94  2U4GBNA0YmkHCVuElMLcGhuCNQ0D5ygbfK5dPViRUZ2WM-...   \n",
       "92991         40  2U4GBNA0Ymkx9m29nap1h44b4geiasv7aNaBGAqbc62-t8...   \n",
       "\n",
       "       party_size  player_assists  player_dbno  player_dist_ride  \\\n",
       "75721           4               0            0           0.00000   \n",
       "80184           1               0            0        1919.02515   \n",
       "19864           4               0            0           0.00000   \n",
       "76699           1               0            0           0.00000   \n",
       "92991           2               0            1           0.00000   \n",
       "\n",
       "       player_dist_walk  player_dmg  player_kills  player_name  \\\n",
       "75721          0.000000           0             0   YatmmfeNew   \n",
       "80184       1846.359380         104             1       FFC123   \n",
       "19864        704.500200           0             0  yangxin6666   \n",
       "76699        138.920624           0             0    HHH-Fiona   \n",
       "92991        363.146851         182             2   Super-Zach   \n",
       "\n",
       "       player_survive_time  team_placement  Day  Hour  prediction  \n",
       "75721              820.759              27    5     6         1.0  \n",
       "80184             1009.946              30    2    21         1.0  \n",
       "19864              392.734              20    5    10         1.0  \n",
       "76699              131.468              84    0    14         1.0  \n",
       "92991              337.183              30    0     0         1.0  "
      ]
     },
     "execution_count": 50,
     "metadata": {},
     "output_type": "execute_result"
    }
   ],
   "source": [
    "test.head()"
   ]
  },
  {
   "cell_type": "code",
   "execution_count": 51,
   "metadata": {},
   "outputs": [],
   "source": [
    "# Analysing the prediction\n",
    "from sklearn.metrics import mean_squared_error"
   ]
  },
  {
   "cell_type": "code",
   "execution_count": 52,
   "metadata": {},
   "outputs": [
    {
     "data": {
      "text/plain": [
       "2.0"
      ]
     },
     "execution_count": 52,
     "metadata": {},
     "output_type": "execute_result"
    }
   ],
   "source": [
    "RMSE = np.sqrt(mean_squared_error(test['prediction'], test[dependent_variable]))\n",
    "np.round(RMSE)  # RMSE = 1.616"
   ]
  },
  {
   "cell_type": "markdown",
   "metadata": {},
   "source": [
    "# Building Machine Learning Model"
   ]
  },
  {
   "cell_type": "markdown",
   "metadata": {},
   "source": [
    "# Linear Regression"
   ]
  },
  {
   "cell_type": "markdown",
   "metadata": {},
   "source": [
    "## Simple Linear Regression\n",
    "\n",
    "Simple linear regression is an approach for predicting a **quantitative response** using a **single feature** (or \"predictor\" or \"input variable\"). It takes the following form:\n",
    "\n",
    "$y = \\beta_0 + \\beta_1x$\n",
    "\n",
    "What does each term represent?\n",
    "- $y$ is the response\n",
    "- $x$ is the feature\n",
    "- $\\beta_0$ is the intercept\n",
    "- $\\beta_1$ is the coefficient for x\n",
    "\n",
    "Together, $\\beta_0$ and $\\beta_1$ are called the **model coefficients**. To create your model, you must \"learn\" the values of these coefficients. And once we've learned these coefficients, we can use the model to predict Sales!"
   ]
  },
  {
   "cell_type": "markdown",
   "metadata": {},
   "source": [
    "## Estimating (\"Learning\") Model Coefficients\n",
    "\n",
    "Generally speaking, coefficients are estimated using the **least squares criterion**, which means we are find the line (mathematically) which minimizes the **sum of squared residuals** (or \"sum of squared errors\"):"
   ]
  },
  {
   "cell_type": "markdown",
   "metadata": {},
   "source": [
    "<img src=\"08_estimating_coefficients.png\">"
   ]
  },
  {
   "cell_type": "markdown",
   "metadata": {},
   "source": [
    "What elements are present in the diagram?\n",
    "- The black dots are the **observed values** of x and y.\n",
    "- The blue line is our **least squares line**.\n",
    "- The red lines are the **residuals**, which are the distances between the observed values and the least squares line.\n",
    "\n",
    "How do the model coefficients relate to the least squares line?\n",
    "- $\\beta_0$ is the **intercept** (the value of $y$ when $x$=0)\n",
    "- $\\beta_1$ is the **slope** (the change in $y$ divided by change in $x$)\n",
    "\n",
    "Here is a graphical depiction of those calculations:"
   ]
  },
  {
   "cell_type": "markdown",
   "metadata": {},
   "source": [
    "<img src=\"08_slope_intercept.png\">"
   ]
  },
  {
   "cell_type": "markdown",
   "metadata": {},
   "source": [
    "### Using Linear Regression Algorithm"
   ]
  },
  {
   "cell_type": "code",
   "execution_count": 53,
   "metadata": {},
   "outputs": [],
   "source": [
    "# Importing machine learning library\n",
    "from sklearn.linear_model import LinearRegression"
   ]
  },
  {
   "cell_type": "code",
   "execution_count": 54,
   "metadata": {},
   "outputs": [],
   "source": [
    "# Creating machine learning model\n",
    "model1 = LinearRegression()"
   ]
  },
  {
   "cell_type": "code",
   "execution_count": 55,
   "metadata": {},
   "outputs": [
    {
     "data": {
      "text/plain": [
       "LinearRegression(copy_X=True, fit_intercept=True, n_jobs=1, normalize=False)"
      ]
     },
     "execution_count": 55,
     "metadata": {},
     "output_type": "execute_result"
    }
   ],
   "source": [
    "# Training our model\n",
    "model1.fit(train[independent_variable], train[dependent_variable])"
   ]
  },
  {
   "cell_type": "code",
   "execution_count": 56,
   "metadata": {},
   "outputs": [
    {
     "data": {
      "text/plain": [
       "array([ 7.06183893e-03, -6.80423888e-03, -1.44394962e-01,  2.05585048e-01,\n",
       "       -1.90034724e-05,  1.69474867e-04,  1.35505908e-06,  7.31822822e-03,\n",
       "        2.49836532e-12, -6.15840460e-03, -1.78506620e-04])"
      ]
     },
     "execution_count": 56,
     "metadata": {},
     "output_type": "execute_result"
    }
   ],
   "source": [
    "# Get coeffecients\n",
    "model1.coef_"
   ]
  },
  {
   "cell_type": "code",
   "execution_count": 57,
   "metadata": {},
   "outputs": [
    {
     "data": {
      "text/plain": [
       "-0.2519354750867352"
      ]
     },
     "execution_count": 57,
     "metadata": {},
     "output_type": "execute_result"
    }
   ],
   "source": [
    "# Get intercept\n",
    "model1.intercept_"
   ]
  },
  {
   "cell_type": "code",
   "execution_count": 58,
   "metadata": {},
   "outputs": [],
   "source": [
    "# Predicting on test data\n",
    "prediction = model1.predict(test[independent_variable])"
   ]
  },
  {
   "cell_type": "markdown",
   "metadata": {
    "collapsed": true
   },
   "source": [
    "#### Analysing our model"
   ]
  },
  {
   "cell_type": "code",
   "execution_count": 59,
   "metadata": {},
   "outputs": [
    {
     "data": {
      "text/plain": [
       "0.6572204395856485"
      ]
     },
     "execution_count": 59,
     "metadata": {},
     "output_type": "execute_result"
    }
   ],
   "source": [
    "# Accuracy on training dataset\n",
    "np.sqrt(mean_squared_error(model1.predict(train[independent_variable]), train[dependent_variable]))"
   ]
  },
  {
   "cell_type": "code",
   "execution_count": 60,
   "metadata": {},
   "outputs": [
    {
     "data": {
      "text/plain": [
       "0.6658892848998159"
      ]
     },
     "execution_count": 60,
     "metadata": {},
     "output_type": "execute_result"
    }
   ],
   "source": [
    "# Accuracy on testing dataset\n",
    "np.sqrt(mean_squared_error(model1.predict(test[independent_variable]), test[dependent_variable]))"
   ]
  },
  {
   "cell_type": "markdown",
   "metadata": {},
   "source": [
    "### Using Decision Tree Algorithm"
   ]
  },
  {
   "cell_type": "code",
   "execution_count": 61,
   "metadata": {},
   "outputs": [],
   "source": [
    "# Importing Decision Tree Classifier\n",
    "from sklearn.tree import DecisionTreeRegressor"
   ]
  },
  {
   "cell_type": "code",
   "execution_count": 62,
   "metadata": {},
   "outputs": [],
   "source": [
    "model2 = DecisionTreeRegressor()"
   ]
  },
  {
   "cell_type": "code",
   "execution_count": 63,
   "metadata": {},
   "outputs": [
    {
     "data": {
      "text/plain": [
       "DecisionTreeRegressor(criterion='mse', max_depth=None, max_features=None,\n",
       "           max_leaf_nodes=None, min_impurity_decrease=0.0,\n",
       "           min_impurity_split=None, min_samples_leaf=1,\n",
       "           min_samples_split=2, min_weight_fraction_leaf=0.0,\n",
       "           presort=False, random_state=None, splitter='best')"
      ]
     },
     "execution_count": 63,
     "metadata": {},
     "output_type": "execute_result"
    }
   ],
   "source": [
    "# Training our model\n",
    "model2.fit(train[independent_variable], train[dependent_variable])"
   ]
  },
  {
   "cell_type": "code",
   "execution_count": 64,
   "metadata": {},
   "outputs": [],
   "source": [
    "# Get Predictions\n",
    "prediction = model2.predict(test[independent_variable])"
   ]
  },
  {
   "cell_type": "code",
   "execution_count": 65,
   "metadata": {},
   "outputs": [
    {
     "data": {
      "text/plain": [
       "0.8987491307367145"
      ]
     },
     "execution_count": 65,
     "metadata": {},
     "output_type": "execute_result"
    }
   ],
   "source": [
    "# Accuracy on testing dataset\n",
    "np.sqrt(mean_squared_error(prediction, test[dependent_variable]))"
   ]
  },
  {
   "cell_type": "markdown",
   "metadata": {},
   "source": [
    "### Using GradientBoostingRegressor"
   ]
  },
  {
   "cell_type": "code",
   "execution_count": 66,
   "metadata": {},
   "outputs": [],
   "source": [
    "from sklearn.ensemble import GradientBoostingRegressor"
   ]
  },
  {
   "cell_type": "code",
   "execution_count": 67,
   "metadata": {},
   "outputs": [],
   "source": [
    "model3 = GradientBoostingRegressor()"
   ]
  },
  {
   "cell_type": "code",
   "execution_count": 68,
   "metadata": {},
   "outputs": [
    {
     "data": {
      "text/plain": [
       "GradientBoostingRegressor(alpha=0.9, criterion='friedman_mse', init=None,\n",
       "             learning_rate=0.1, loss='ls', max_depth=3, max_features=None,\n",
       "             max_leaf_nodes=None, min_impurity_decrease=0.0,\n",
       "             min_impurity_split=None, min_samples_leaf=1,\n",
       "             min_samples_split=2, min_weight_fraction_leaf=0.0,\n",
       "             n_estimators=100, presort='auto', random_state=None,\n",
       "             subsample=1.0, verbose=0, warm_start=False)"
      ]
     },
     "execution_count": 68,
     "metadata": {},
     "output_type": "execute_result"
    }
   ],
   "source": [
    "# Training our model\n",
    "model3.fit(train[independent_variable], train[dependent_variable])"
   ]
  },
  {
   "cell_type": "code",
   "execution_count": 93,
   "metadata": {},
   "outputs": [
    {
     "data": {
      "text/plain": [
       "<matplotlib.axes._subplots.AxesSubplot at 0x7ff843514358>"
      ]
     },
     "execution_count": 93,
     "metadata": {},
     "output_type": "execute_result"
    },
    {
     "data": {
      "image/png": "[encoded data removed]",
      "text/plain": [
       "<Figure size 432x288 with 1 Axes>"
      ]
     },
     "metadata": {},
     "output_type": "display_data"
    }
   ],
   "source": [
    "feat_importances = pd.Series(model3.feature_importances_, index=train[independent_variable].columns)\n",
    "feat_importances.nsmallest(len(independent_variable)).plot(kind='barh')"
   ]
  },
  {
   "cell_type": "code",
   "execution_count": 94,
   "metadata": {},
   "outputs": [],
   "source": [
    "# Get Predictions\n",
    "prediction = model3.predict(test[independent_variable])"
   ]
  },
  {
   "cell_type": "code",
   "execution_count": 95,
   "metadata": {},
   "outputs": [
    {
     "data": {
      "text/plain": [
       "0.6252063032422587"
      ]
     },
     "execution_count": 95,
     "metadata": {},
     "output_type": "execute_result"
    }
   ],
   "source": [
    "# Accuracy on testing dataset\n",
    "np.sqrt(mean_squared_error(prediction, test[dependent_variable]))"
   ]
  },
  {
   "cell_type": "markdown",
   "metadata": {
    "collapsed": true
   },
   "source": [
    "## What You Can Try Next on Your Own"
   ]
  },
  {
   "cell_type": "markdown",
   "metadata": {
    "collapsed": true
   },
   "source": [
    "We saw that LightGBM outperformed Linear Regression and Decision Trees by a little margin and clearly surpassed our baseline model by a huge amount. However, few more things can be tried to push RMSE:\n",
    "\n",
    "* HyperParameter Tuning using Hyperopt etc.\n",
    "* Better feature generation.\n",
    "* Trying ensembles of different models.\n",
    "* Better feature transformations."
   ]
  },
  {
   "cell_type": "markdown",
   "metadata": {
    "collapsed": true
   },
   "source": [
    "## Where to Go from Here"
   ]
  },
  {
   "cell_type": "markdown",
   "metadata": {
    "collapsed": true
   },
   "source": [
    "Here are some resources and blogs that would help one to get started in Data Science and Machine Learning:\n",
    "\n",
    "* __[DSG Blog about How to Start Data Science](https://medium.com/data-science-group-iitr/stop-thinking-start-learning-cb74629bca3a)__\n",
    "* __[DSG Medium Handle](https://medium.com/data-science-group-iitr)__\n",
    "* __[3 Blue 1 Brown](https://www.youtube.com/channel/UCYO_jab_esuFRV4b17AJtAw)__\n",
    "* __[Harvard Data Science Course (CS109)](http://cs109.github.io/2015/pages/videos.html)__\n",
    "* __[Andrew Ng Machine Learning Course](http://cs229.stanford.edu/)__\n",
    "* __[Analytics Vidhya](https://www.analyticsvidhya.com/blog/)__\n",
    "* __[Machine Learning Mastery](https://machinelearningmastery.com/)__\n",
    "* __[Kaggle (A Competitive Data Science Platform)](https://www.kaggle.com/)__"
   ]
  },
  {
   "cell_type": "code",
   "execution_count": null,
   "metadata": {},
   "outputs": [],
   "source": []
  },
  {
   "cell_type": "code",
   "execution_count": null,
   "metadata": {},
   "outputs": [],
   "source": []
  }
 ],
 "metadata": {
  "kernelspec": {
   "display_name": "Python 3",
   "language": "python",
   "name": "python3"
  },
  "language_info": {
   "codemirror_mode": {
    "name": "ipython",
    "version": 3
   },
   "file_extension": ".py",
   "mimetype": "text/x-python",
   "name": "python",
   "nbconvert_exporter": "python",
   "pygments_lexer": "ipython3",
   "version": "3.6.5"
  }
 },
 "nbformat": 4,
 "nbformat_minor": 2
}
